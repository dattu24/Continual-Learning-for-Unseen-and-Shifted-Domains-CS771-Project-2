{
  "nbformat": 4,
  "nbformat_minor": 0,
  "metadata": {
    "colab": {
      "provenance": []
    },
    "kernelspec": {
      "name": "python3",
      "display_name": "Python 3"
    },
    "language_info": {
      "name": "python"
    }
  },
  "cells": [
    {
      "cell_type": "code",
      "source": [
        "from google.colab import drive\n",
        "drive.mount('/content/gdrive')\n",
        "\n",
        "import torch\n",
        "import torchvision.transforms as transforms\n",
        "from torch.utils.data import DataLoader, TensorDataset\n",
        "from torchvision import models as torchvision_models\n",
        "import timm\n",
        "from sklearn.metrics import accuracy_score\n",
        "import numpy as np\n",
        "import tarfile"
      ],
      "metadata": {
        "id": "6-bJVTbBTOYf"
      },
      "execution_count": null,
      "outputs": []
    },
    {
      "cell_type": "code",
      "source": [
        "#Loading Data Set\n",
        "t = torch.load(r\"gdrive/My Drive/miniproject2/dataset/part_one_dataset/train_data/1_train_data.tar.pth\")"
      ],
      "metadata": {
        "id": "yqnc_59FTX0T"
      },
      "execution_count": null,
      "outputs": []
    },
    {
      "cell_type": "code",
      "source": [
        "data, targets = t['data'], t['targets']\n",
        "data = torch.tensor(data, dtype=torch.float32).permute(0, 3, 1, 2)\n",
        "targets = torch.tensor(targets, dtype=torch.long)\n",
        "\n",
        "#transformations for resizing\n",
        "transform = transforms.Compose([\n",
        "    transforms.ToPILImage(),\n",
        "    transforms.Resize((224, 224)),\n",
        "    transforms.ToTensor(),\n",
        "    transforms.Normalize(mean=[0.485, 0.456, 0.406], std=[0.229, 0.224, 0.225])\n",
        "])\n",
        "#Applying transformation on the given data\n",
        "data = torch.stack([transform(img) for img in data])\n",
        "\n",
        "#Loading the data using below\n",
        "dataset = TensorDataset(data, targets)\n",
        "loader = DataLoader(dataset, batch_size=64, shuffle=False)\n",
        "\n",
        "#Function to extract features\n",
        "def extract_features(model, loader):\n",
        "    model.eval()\n",
        "    features = []\n",
        "    with torch.no_grad():\n",
        "        for inputs, _ in loader:\n",
        "            feature_vectors = model(inputs)\n",
        "            features.append(feature_vectors)\n",
        "    return torch.cat(features)"
      ],
      "metadata": {
        "id": "3h9gsRDETa1A"
      },
      "execution_count": null,
      "outputs": []
    },
    {
      "cell_type": "code",
      "execution_count": null,
      "metadata": {
        "id": "L8eRe-UNTJa-"
      },
      "outputs": [],
      "source": [
        "#\n",
        "models = {\n",
        "    # \"EfficientNet-B3\": timm.create_model('tf_efficientnet_b3_ns', pretrained=True), #69.76%\n",
        "    # \"VGG16\": torchvision_models.vgg16(pretrained=True), # 60.72%\n",
        "    #\"DPN92\": timm.create_model('dpn92', pretrained=True), #61.68%\n",
        "    # \"AlexNet\": torchvision_models.alexnet(pretrained=True), # 57.36%\n",
        "    # \"ResNet50\": torchvision_models.resnet50(pretrained=True), # 63.52%\n",
        "    # \"ResNet101\": torchvision_models.resnet101(pretrained=True), # 67.32%\n",
        "    # \"DenseNet121\": torchvision_models.densenet121(pretrained=True), #63.96%\n",
        "    # \"RegNetY-400MF\": torchvision_models.regnet_y_400mf(pretrained=True), #64.00%\n",
        "    #\"SENet154\": timm.create_model('senet154', pretrained=True), #69.24\n",
        "    #\"MobileNetV2\": torchvision_models.mobilenet_v2(pretrained=True),  #66.48%\n",
        "    #\"InceptionV3\": torchvision_models.inception_v3(pretrained=True), #62.28%\n",
        "    # \"EfficientNet-B0\": torchvision_models.efficientnet_b0(pretrained=True), #79.88%\n",
        "    \"ViT-Base\": timm.create_model('vit_base_patch16_224', pretrained=True) #84.68%\n",
        "    # \"Swin-Transformer\": timm.create_model('swin_base_patch4_window7_224', pretrained=True), #0.24%\n",
        "    #\"ConvNeXt-Base\": torchvision_models.convnext_base(pretrained=True)  #75.80%\n",
        "}\n",
        "\n",
        "\n",
        "for model_name, model in models.items():\n",
        "    if 'ResNet' in model_name:\n",
        "        model.fc = torch.nn.Identity()\n",
        "    elif 'MobileNet' in model_name:\n",
        "        model.classifier[1] = torch.nn.Identity()\n",
        "    elif 'VGG' in model_name:\n",
        "        model.classifier[6] = torch.nn.Identity()\n",
        "    elif 'Inception' in model_name:\n",
        "        model.fc = torch.nn.Identity()\n",
        "    elif 'AlexNet' in model_name:\n",
        "        model.classifier[6] = torch.nn.Identity()\n",
        "    else:\n",
        "        if model_name == \"EfficientNet-B3\":\n",
        "            model.classifier = torch.nn.Identity()\n",
        "        elif model_name == \"DPN92\":\n",
        "            model.classifier = torch.nn.Identity()\n",
        "        elif model_name == \"EfficientNet-B0\":\n",
        "            model.classifier = torch.nn.Identity()\n",
        "        elif model_name == \"ViT-Base\":\n",
        "            model.head = torch.nn.Identity()\n",
        "        elif model_name == \"Swin-Transformer\":\n",
        "            model.head = torch.nn.Identity()\n",
        "        elif model_name == \"ConvNeXt-Base\":\n",
        "            model.classifier[2] = torch.nn.Identity()\n",
        "        elif model_name == \"DenseNet121\":\n",
        "            model.classifier = torch.nn.Identity()\n",
        "        elif model_name == \"RegNetY-400MF\":\n",
        "            model.fc = torch.nn.Identity()\n",
        "        elif model_name == \"SENet154\":\n",
        "            model.fc = torch.nn.Identity()\n",
        "\n",
        "for model_name, model in models.items():\n",
        "    print(f\"\\nExtracting features and applying LwP using {model_name}...\")\n",
        "\n",
        "    # Feature extraction\n",
        "    features = extract_features(model, loader)\n",
        "    features = features.numpy()\n",
        "\n",
        "    num_classes = len(torch.unique(targets))\n",
        "    prototypes = []\n",
        "    for i in range(num_classes):\n",
        "        class_features = features[targets == i]\n",
        "        prototype = class_features.mean(axis=0)\n",
        "        prototypes.append(prototype)\n",
        "    prototypes = np.array(prototypes)\n",
        "  #LWP calculation and accuracy calculation in further step\n",
        "    predictions = []\n",
        "    for feature in features:\n",
        "        distances = np.linalg.norm(prototypes - feature, axis=1)\n",
        "        predicted_class = np.argmin(distances)\n",
        "        predictions.append(predicted_class)\n",
        "\n",
        "    accuracy = accuracy_score(targets.numpy(), predictions)\n",
        "    print(f\"Accuracy with {model_name}: {accuracy * 100:.2f}%\")"
      ]
    }
  ]
}